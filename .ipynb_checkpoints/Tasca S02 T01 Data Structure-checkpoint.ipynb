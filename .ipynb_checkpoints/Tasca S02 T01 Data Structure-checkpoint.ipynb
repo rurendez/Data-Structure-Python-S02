{
 "cells": [
  {
   "cell_type": "markdown",
   "id": "d245acea",
   "metadata": {
    "run_control": {
     "marked": true
    }
   },
   "source": [
    "# Exercises - Data Science Sprint 02 - S02 T01\n",
    "   **Data Structure**"
   ]
  },
  {
   "cell_type": "markdown",
   "id": "2848916a",
   "metadata": {},
   "source": [
    "## Level 1\n"
   ]
  },
  {
   "cell_type": "markdown",
   "id": "faafe66d",
   "metadata": {
    "lang": "en"
   },
   "source": [
    "### Level 1 - Exercise 1\n",
    "    * Create of a list that contains other lists inside\n"
   ]
  },
  {
   "cell_type": "code",
   "execution_count": 1,
   "id": "05946687",
   "metadata": {
    "ExecuteTime": {
     "end_time": "2022-06-29T09:35:54.030983Z",
     "start_time": "2022-06-29T09:35:54.022014Z"
    },
    "lang": "en"
   },
   "outputs": [],
   "source": [
    "\n",
    "yearQuarters=[[\"January\",\"February\",\"March\"],[\"April\",\"May\",\"June\"],\n",
    "              [\"July\",\"August\",\"September\"],[\"October\",\"November\",\"December\"]]\n"
   ]
  },
  {
   "cell_type": "markdown",
   "id": "308a7c9f",
   "metadata": {},
   "source": [
    "### Level 1 - Exercise 2\n",
    "* Create different codes in order to extract data from this list"
   ]
  },
  {
   "cell_type": "code",
   "execution_count": 2,
   "id": "bffa340e",
   "metadata": {
    "ExecuteTime": {
     "end_time": "2022-06-29T09:35:54.077822Z",
     "start_time": "2022-06-29T09:35:54.062872Z"
    }
   },
   "outputs": [
    {
     "name": "stdout",
     "output_type": "stream",
     "text": [
      "February\n",
      "['January', 'February', 'March']\n",
      "September, October\n"
     ]
    }
   ],
   "source": [
    "# let's get the second month from the 1st quarter\n",
    "print (yearQuarters[0][1])\n",
    "\n",
    "#Let's get all months from 1st quarter\n",
    "print (yearQuarters[0])\n",
    "\n",
    "# Let's get the September and October months\n",
    "print (yearQuarters[2][2] + \", \" + yearQuarters[3][0])\n"
   ]
  },
  {
   "cell_type": "markdown",
   "id": "eac710bc",
   "metadata": {},
   "source": [
    "### Level 1 - Exercise 3\n",
    "* Creation of a list of non ordered numbers, and answer to some questions"
   ]
  },
  {
   "cell_type": "code",
   "execution_count": 3,
   "id": "f14de839",
   "metadata": {
    "ExecuteTime": {
     "end_time": "2022-06-29T09:35:54.125667Z",
     "start_time": "2022-06-29T09:35:54.107721Z"
    }
   },
   "outputs": [
    {
     "name": "stdout",
     "output_type": "stream",
     "text": [
      "[9, 5, 9, 4, 8, 2, 10, 1, 4, 5, 6, 1, 1, 3, 6, 5, 8, 7, 2, 5, 5, 3, 8, 4, 3, 2, 1, 6, 5, 6]\n",
      "Lenght:  30\n",
      "Total number equal to 3:  3\n",
      "Total number equal to 3 and 4:  6\n",
      "Greatest number:  10\n",
      "Lower 3 numbers:  [1, 1, 1]\n",
      "List range:  9\n"
     ]
    }
   ],
   "source": [
    "# Create a random list of 30 numbers from 1 to 10\n",
    "import random\n",
    "randomlist = []\n",
    "for i in range(0,30):\n",
    "    n = random.randint(1,10)\n",
    "    randomlist.append(n)\n",
    "print(randomlist)\n",
    "\n",
    "# total lenght of list\n",
    "print('Lenght: ', len(randomlist))\n",
    "\n",
    "# count total numbers equal to 3\n",
    "print('Total number equal to 3: ', randomlist.count(3))\n",
    "\n",
    "# count total numbers equal to 3 and 4\n",
    "print('Total number equal to 3 and 4: ', randomlist.count(3)+randomlist.count(4))\n",
    "\n",
    "# find out the greatest number\n",
    "randomlist.sort()          # sorting list\n",
    "print('Greatest number: ', randomlist[-1])      # picking the last item\n",
    "\n",
    "# find out the 3 lower numbers of the list\n",
    "print('Lower 3 numbers: ', randomlist[0:3])     # once sorted the list, pick the 3 lower items\n",
    "\n",
    "# list range of the list (max number - min number)\n",
    "print('List range: ', randomlist[-1]-randomlist[0])"
   ]
  },
  {
   "cell_type": "markdown",
   "id": "4df310ce",
   "metadata": {
    "ExecuteTime": {
     "end_time": "2022-06-21T20:57:15.582844Z",
     "start_time": "2022-06-21T20:57:15.568892Z"
    }
   },
   "source": [
    "### Level 1 - Exercise 4\n",
    "* Create a given dictionary and answer some questions"
   ]
  },
  {
   "cell_type": "code",
   "execution_count": 4,
   "id": "2420143b",
   "metadata": {
    "ExecuteTime": {
     "end_time": "2022-06-29T09:35:54.172504Z",
     "start_time": "2022-06-29T09:35:54.155562Z"
    }
   },
   "outputs": [
    {
     "name": "stdout",
     "output_type": "stream",
     "text": [
      "{'Apples': {'Qty': 5, '€': 0.42}, 'Pears': {'Qty': 3, '€': 0.66}}\n",
      "{'Apples': {'Qty': 5, '€': 0.42}, 'Pears': {'Qty': 3, '€': 0.66}, 'Oranges': {'Qty': 10, '€': 0.99}}\n",
      "Total cost of pears:  1.98  €\n",
      "Total fruits:  18\n",
      "The most expenxive fruit is:  Oranges  at  0.99  €/unit\n"
     ]
    }
   ],
   "source": [
    "# dictionaty\n",
    "shoppingList = {\"Apples\":{\"Qty\":5,\"€\":0.42}, \"Pears\":{\"Qty\":3,\"€\":0.66}}\n",
    "print (shoppingList)\n",
    "\n",
    "# adding some oranges\n",
    "shoppingList[\"Oranges\"]={\"Qty\":10,\"€\":0.99}\n",
    "print (shoppingList)\n",
    "\n",
    "# calculate the total cost of pears\n",
    "print(\"Total cost of pears: \",shoppingList[\"Pears\"][\"Qty\"]*shoppingList[\"Pears\"][\"€\"], \" €\" )\n",
    "\n",
    "# calculate the total fruits we have bought\n",
    "totalFruits = 0\n",
    "for x in shoppingList:\n",
    "    totalFruits += shoppingList[x][\"Qty\"]\n",
    "print(\"Total fruits: \", totalFruits)\n",
    "    \n",
    "# calculate the most expensive fruit\n",
    "maxCost = 0\n",
    "for x in shoppingList:\n",
    "    if (shoppingList[x][\"€\"] > maxCost):\n",
    "        maxFruitCost = x\n",
    "        maxCost = shoppingList[x][\"€\"]\n",
    "print(\"The most expenxive fruit is: \", maxFruitCost, \" at \",maxCost, \" €/unit\")\n"
   ]
  },
  {
   "cell_type": "code",
   "execution_count": null,
   "id": "b7f6fc2e",
   "metadata": {},
   "outputs": [],
   "source": []
  }
 ],
 "metadata": {
  "kernelspec": {
   "display_name": "Python 3 (ipykernel)",
   "language": "python",
   "name": "python3"
  },
  "language_info": {
   "codemirror_mode": {
    "name": "ipython",
    "version": 3
   },
   "file_extension": ".py",
   "mimetype": "text/x-python",
   "name": "python",
   "nbconvert_exporter": "python",
   "pygments_lexer": "ipython3",
   "version": "3.9.12"
  },
  "latex_envs": {
   "LaTeX_envs_menu_present": true,
   "autoclose": false,
   "autocomplete": true,
   "bibliofile": "biblio.bib",
   "cite_by": "apalike",
   "current_citInitial": 1,
   "eqLabelWithNumbers": true,
   "eqNumInitial": 1,
   "hotkeys": {
    "equation": "Ctrl-E",
    "itemize": "Ctrl-I"
   },
   "labels_anchors": false,
   "latex_user_defs": false,
   "report_style_numbering": false,
   "user_envs_cfg": false
  },
  "nbTranslate": {
   "displayLangs": [
    "en"
   ],
   "hotkey": "alt-t",
   "langInMainMenu": true,
   "sourceLang": "en",
   "targetLang": "fr",
   "useGoogleTranslate": true
  },
  "toc": {
   "base_numbering": 1,
   "nav_menu": {
    "height": "300px",
    "width": "278px"
   },
   "number_sections": true,
   "sideBar": true,
   "skip_h1_title": true,
   "title_cell": "Table of Contents",
   "title_sidebar": "Contents",
   "toc_cell": false,
   "toc_position": {
    "height": "calc(100% - 180px)",
    "left": "10px",
    "top": "150px",
    "width": "384px"
   },
   "toc_section_display": true,
   "toc_window_display": true
  },
  "varInspector": {
   "cols": {
    "lenName": 16,
    "lenType": 16,
    "lenVar": 40
   },
   "kernels_config": {
    "python": {
     "delete_cmd_postfix": "",
     "delete_cmd_prefix": "del ",
     "library": "var_list.py",
     "varRefreshCmd": "print(var_dic_list())"
    },
    "r": {
     "delete_cmd_postfix": ") ",
     "delete_cmd_prefix": "rm(",
     "library": "var_list.r",
     "varRefreshCmd": "cat(var_dic_list()) "
    }
   },
   "types_to_exclude": [
    "module",
    "function",
    "builtin_function_or_method",
    "instance",
    "_Feature"
   ],
   "window_display": false
  }
 },
 "nbformat": 4,
 "nbformat_minor": 5
}
